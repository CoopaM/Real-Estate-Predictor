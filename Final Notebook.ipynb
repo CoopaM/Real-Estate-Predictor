{
 "cells": [
  {
   "cell_type": "markdown",
   "id": "6dd04fc9",
   "metadata": {},
   "source": [
    "# Final Notebook\n",
    "**Author: Cooper McCombs**"
   ]
  },
  {
   "cell_type": "markdown",
   "id": "65cad1f6",
   "metadata": {},
   "source": [
    "## Overview\n",
    "For my final project with flatiron, I wanted to find trends in zipcodes to predict the median prices of homes for each zipcode. This allows me to estimate where the housing market is right now and where it will be in a years time based on previous years."
   ]
  },
  {
   "cell_type": "markdown",
   "id": "3ee1c197",
   "metadata": {},
   "source": [
    "## Business Problem\n",
    "What I want to achieve in this project is to give an accurate estimation of the real estate market and where it's going. With this information, I would help upcoming investors and homeowners get a understanding of how they should invest their money."
   ]
  },
  {
   "cell_type": "markdown",
   "id": "aa08da34",
   "metadata": {},
   "source": [
    "## Data\n",
    "I got my data from Zillow. It uses median housing prices from the years 2000 to 2022. The reason why the median value of homes is used instead of mean to resist outliers from effecting the data. The dataset I used consists of over 27000 rows of data points and takes information from the first of the month."
   ]
  },
  {
   "cell_type": "markdown",
   "id": "5a3da858",
   "metadata": {},
   "source": [
    "### Importing Libraries"
   ]
  },
  {
   "cell_type": "code",
   "execution_count": 1,
   "id": "4ac41ae3",
   "metadata": {},
   "outputs": [
    {
     "name": "stderr",
     "output_type": "stream",
     "text": [
      "C:\\Users\\coope\\anaconda3\\envs\\time\\lib\\site-packages\\tqdm\\auto.py:22: TqdmWarning: IProgress not found. Please update jupyter and ipywidgets. See https://ipywidgets.readthedocs.io/en/stable/user_install.html\n",
      "  from .autonotebook import tqdm as notebook_tqdm\n",
      "Importing plotly failed. Interactive plots will not work.\n"
     ]
    }
   ],
   "source": [
    "import pandas as pd\n",
    "import numpy as np\n",
    "import matplotlib.pyplot as plt\n",
    "import matplotlib\n",
    "\n",
    "from statsmodels.tsa.stattools import acf, pacf, adfuller\n",
    "from statsmodels.graphics.tsaplots import plot_acf, plot_pacf\n",
    "from statsmodels.tsa.seasonal import seasonal_decompose\n",
    "from statsmodels.tsa.arima.model import ARIMA\n",
    "\n",
    "from sklearn.metrics import r2_score, mean_squared_error, mean_absolute_error\n",
    "from sklearn.model_selection import train_test_split\n",
    "from sklearn.metrics import explained_variance_score\n",
    "\n",
    "import pmdarima as pm\n",
    "from pmdarima import model_selection\n",
    "from pmdarima.utils import decomposed_plot\n",
    "from pmdarima.arima import decompose, auto_arima\n",
    "from pmdarima.arima.stationarity import ADFTest\n",
    "\n",
    "from prophet import Prophet\n",
    "from prophet.plot import plot_plotly, plot_components_plotly"
   ]
  },
  {
   "cell_type": "markdown",
   "id": "17658c8f",
   "metadata": {},
   "source": [
    "### Importing Data"
   ]
  },
  {
   "cell_type": "code",
   "execution_count": 2,
   "id": "2462ad3f",
   "metadata": {},
   "outputs": [],
   "source": [
    "df = pd.read_csv('Data/zillow_data.csv')\n",
    "df2 = pd.read_csv('Data/Zip_zhvi_uc_sfrcondo_tier_0.33_0.67_sm_sa_month.csv')"
   ]
  },
  {
   "cell_type": "markdown",
   "id": "370fbb7d",
   "metadata": {},
   "source": [
    "### Dropping unneeded columns"
   ]
  },
  {
   "cell_type": "code",
   "execution_count": 3,
   "id": "6ed5c947",
   "metadata": {},
   "outputs": [],
   "source": [
    "df2 = df2.drop(columns = ['RegionType', 'StateName'])"
   ]
  },
  {
   "cell_type": "markdown",
   "id": "dccc86ed",
   "metadata": {},
   "source": [
    "### Function to format data"
   ]
  },
  {
   "cell_type": "code",
   "execution_count": 4,
   "id": "2a12b4d0",
   "metadata": {},
   "outputs": [],
   "source": [
    "def melt_data(df):\n",
    "    \"\"\"\n",
    "    Takes the zillow_data dataset in wide form or a subset of the zillow_dataset.  \n",
    "    Returns a long-form datetime dataframe \n",
    "    with the datetime column names as the index and the values as the 'values' column.\n",
    "    \n",
    "    If more than one row is passes in the wide-form dataset, the values column\n",
    "    will be the mean of the values from the datetime columns in all of the rows.\n",
    "    \"\"\"\n",
    "    \n",
    "    melted = pd.melt(df, id_vars=['RegionName', 'RegionID', 'SizeRank', 'City', 'State', 'Metro', 'CountyName'], var_name='time')\n",
    "    melted['time'] = pd.to_datetime(melted['time'], infer_datetime_format=True)\n",
    "    melted = melted.dropna(subset=['value'])\n",
    "    return melted.groupby('time').aggregate({'value':'mean'})"
   ]
  },
  {
   "cell_type": "markdown",
   "id": "12b9b4f6",
   "metadata": {},
   "source": [
    "### Function to make an Auto ARIMA Model"
   ]
  },
  {
   "cell_type": "code",
   "execution_count": 5,
   "id": "80ca5bc3",
   "metadata": {},
   "outputs": [],
   "source": [
    "def arima_model(zipcode, dataframe = df):\n",
    "    '''\n",
    "    This is an arima model predicting housing prices based on zipcode by taking in a zipcode\n",
    "    and dataframe and outputting a prediction for the last 12 months, as well as the R-Sqaured,\n",
    "    Mean Absolute Error, and Root Mean Squared Error scores. The Auto ARIMA Model automatically\n",
    "    hypertunes the data to get the best version of the trend based on seasonality and trend\n",
    "    indications in the data.\n",
    "    '''\n",
    "    zipcode = dataframe.loc[dataframe['RegionName'] == zipcode]\n",
    "    melted_df = melt_data(zipcode)\n",
    "    melted_df.index = pd.to_datetime(melted_df.index)\n",
    "    train, test = train_test_split(melted_df, test_size = 12, shuffle=False)\n",
    "    arima = auto_arima(train,\n",
    "        start_p=1,\n",
    "        d=None,\n",
    "        start_1=1,\n",
    "        trace=True,\n",
    "        m=12,\n",
    "        seasonal=True)\n",
    "    test_preds = pd.Series(arima.predict(n_periods=len(test)), index=test.index)\n",
    "    print(f\"R2 Score: {r2_score(test, test_preds):.4f}\")\n",
    "    print(f\"MAE Score: ${mean_absolute_error(test, test_preds):.4f}\")\n",
    "    print(f\"RMSE Score: ${mean_squared_error(test, test_preds, squared=False):.4f}\")\n",
    "    actual = train['value'].values[-1]\n",
    "    trend = test_preds.values[-1]\n",
    "    ROI = trend - actual\n",
    "    print(f\"ROI: ${(ROI):.4f}\")\n",
    "    fig, ax = plt.subplots(figsize = (8, 6))\n",
    "    ax.plot(train, label = 'Train')\n",
    "    ax.plot(test, label = 'Test')\n",
    "    ax.plot(test_preds, label = 'Test Preds')\n",
    "    plt.xlabel('Year', fontsize=20)\n",
    "    plt.ylabel('Median Housing Price', fontsize=20)\n",
    "    ax.yaxis.set_major_formatter('${x:1.0f}')\n",
    "    plt.legend()\n",
    "    return test_preds"
   ]
  },
  {
   "cell_type": "markdown",
   "id": "e4aaaf94",
   "metadata": {},
   "source": [
    "## Results"
   ]
  },
  {
   "cell_type": "markdown",
   "id": "91111b4d",
   "metadata": {},
   "source": [
    "Most zipcodes indicate a positive trend in the current market. My model forcasts one year in advance and accounts for around 87% variance. The zipcode I decided to use for an example is 35173 or Trussville, Alabama and it estimates over a $48000 ROI(return of investment). This graph represents an example of my final model, but the function I wrote allows you to input any zipcode to output a forecasting graph."
   ]
  },
  {
   "cell_type": "code",
   "execution_count": 6,
   "id": "99212000",
   "metadata": {
    "scrolled": true
   },
   "outputs": [
    {
     "name": "stdout",
     "output_type": "stream",
     "text": [
      "Performing stepwise search to minimize aic\n",
      " ARIMA(1,2,2)(1,0,1)[12]             : AIC=3757.016, Time=1.45 sec\n",
      " ARIMA(0,2,0)(0,0,0)[12]             : AIC=3752.603, Time=0.06 sec\n",
      " ARIMA(1,2,0)(1,0,0)[12]             : AIC=3754.439, Time=0.09 sec\n",
      " ARIMA(0,2,1)(0,0,1)[12]             : AIC=3754.567, Time=0.12 sec\n",
      " ARIMA(0,2,0)(1,0,0)[12]             : AIC=3752.418, Time=0.12 sec\n",
      " ARIMA(0,2,0)(2,0,0)[12]             : AIC=3752.957, Time=0.16 sec\n",
      " ARIMA(0,2,0)(1,0,1)[12]             : AIC=3753.384, Time=0.45 sec\n",
      " ARIMA(0,2,0)(0,0,1)[12]             : AIC=3753.509, Time=0.11 sec\n",
      " ARIMA(0,2,0)(2,0,1)[12]             : AIC=3754.977, Time=1.19 sec\n",
      " ARIMA(0,2,1)(1,0,0)[12]             : AIC=3754.505, Time=0.41 sec\n",
      " ARIMA(1,2,1)(1,0,0)[12]             : AIC=3761.355, Time=0.17 sec\n",
      " ARIMA(0,2,0)(1,0,0)[12] intercept   : AIC=3754.317, Time=0.54 sec\n",
      "\n",
      "Best model:  ARIMA(0,2,0)(1,0,0)[12]          \n",
      "Total fit time: 5.424 seconds\n",
      "R2 Score: 0.8670\n",
      "MAE Score: $5464.6633\n",
      "RMSE Score: $5794.9132\n",
      "ROI: $48800.4265\n"
     ]
    },
    {
     "data": {
      "image/png": "[encoded data removed]",
      "text/plain": [
       "<Figure size 576x432 with 1 Axes>"
      ]
     },
     "metadata": {
      "needs_background": "light"
     },
     "output_type": "display_data"
    }
   ],
   "source": [
    "test_preds = arima_model(35173, df2)"
   ]
  },
  {
   "cell_type": "markdown",
   "id": "cdbf1db9",
   "metadata": {},
   "source": [
    "## Conclusion\n",
    "In conclusion, the housing market right now is really good and keeps increasing in prices. This means now is the time to rent homes as you want to set the rate of homes when the value of the house is high in order to have a high rate of rent. This also means that you should not buy right now, but rather sell as I am estimating that in a year or two the housing market will top off and start going back down."
   ]
  },
  {
   "cell_type": "markdown",
   "id": "c2f59f76",
   "metadata": {},
   "source": [
    "## Future Work\n",
    "If I had more time to work on this project I would:\n",
    "\n",
    "- Accommodate for the economy and housing market\n",
    "- Scrape more housing data from different sources to get a more accurate representation of the whole market\n",
    "- Increase the accuracy of my model\n"
   ]
  },
  {
   "cell_type": "markdown",
   "id": "d7ce49a7",
   "metadata": {},
   "source": [
    "## For More Information"
   ]
  },
  {
   "cell_type": "markdown",
   "id": "f482fcd4",
   "metadata": {},
   "source": [
    "![Zillow](https://www.zillow.com/research/data/)"
   ]
  }
 ],
 "metadata": {
  "kernelspec": {
   "display_name": "Python 3 (ipykernel)",
   "language": "python",
   "name": "python3"
  },
  "language_info": {
   "codemirror_mode": {
    "name": "ipython",
    "version": 3
   },
   "file_extension": ".py",
   "mimetype": "text/x-python",
   "name": "python",
   "nbconvert_exporter": "python",
   "pygments_lexer": "ipython3",
   "version": "3.8.13"
  }
 },
 "nbformat": 4,
 "nbformat_minor": 5
}
